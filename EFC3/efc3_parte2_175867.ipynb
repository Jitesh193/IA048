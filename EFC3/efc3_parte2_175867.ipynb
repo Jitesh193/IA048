{
 "cells": [
  {
   "cell_type": "markdown",
   "metadata": {},
   "source": [
    "# EFC 3 - Redes Neurais - IA048\n",
    "\n",
    "## Aluno: Jitesh Ashok Manilal Vassaram, RA:175867"
   ]
  },
  {
   "cell_type": "code",
   "execution_count": null,
   "metadata": {},
   "outputs": [],
   "source": [
    "import numpy as np\n",
    "import matplotlib.pyplot as plt\n",
    "import tensorflow as tf"
   ]
  },
  {
   "cell_type": "code",
   "execution_count": null,
   "metadata": {},
   "outputs": [],
   "source": [
    "data = np.load('../EFC3/bloodmnist.npz')"
   ]
  },
  {
   "cell_type": "code",
   "execution_count": null,
   "metadata": {},
   "outputs": [],
   "source": [
    "TrainX = data[\"train_images\"]\n",
    "TrainY = data[\"train_labels\"]\n",
    "ValX = data[\"val_images\"]\n",
    "ValY = data[\"val_labels\"]\n",
    "TestX = data[\"test_images\"]\n",
    "TestY = data[\"test_labels\"]"
   ]
  },
  {
   "cell_type": "code",
   "execution_count": null,
   "metadata": {},
   "outputs": [],
   "source": [
    "print(f'dados de treinamento: \\n {len(TrainX[0])}')\n",
    "\n",
    "print('--'*20)\n",
    "print(f'\\n {TrainX/255}')"
   ]
  },
  {
   "cell_type": "code",
   "execution_count": null,
   "metadata": {},
   "outputs": [],
   "source": [
    "plt.imshow(TestX[0])\n",
    "plt.colorbar()\n",
    "plt.show()"
   ]
  },
  {
   "cell_type": "code",
   "execution_count": null,
   "metadata": {},
   "outputs": [],
   "source": [
    "TrainX_n = TrainX/255\n",
    "TestX_n = TestX/255\n",
    "ValX_n = ValX/255"
   ]
  },
  {
   "cell_type": "code",
   "execution_count": null,
   "metadata": {},
   "outputs": [],
   "source": [
    "plt.figure(figsize=(10,10))\n",
    "for i in range(25):\n",
    "    plt.subplot(5,5,i+1)\n",
    "    plt.xticks([])\n",
    "    plt.yticks([])\n",
    "    plt.grid(False)\n",
    "    plt.imshow(TrainX_n[i], cmap=plt.cm.binary)\n",
    "    # plt.xlabel(class_names[TrainY[i]])\n",
    "plt.show()"
   ]
  },
  {
   "cell_type": "markdown",
   "metadata": {},
   "source": [
    "# Criação do modelo CNN simples\n",
    "\n",
    "Será implementado uma CNN com uma camada convolucional com função de ativação *relu*, uma camada pooling e, na camada de saída foi adicionado uma função de ativação *softmax*."
   ]
  },
  {
   "cell_type": "markdown",
   "metadata": {},
   "source": [
    "Usar os seguintes links para fazer o CNN no pytorch\n",
    "\n",
    "[Classificacao_Keras](https://colab.research.google.com/github/tensorflow/docs-l10n/blob/master/site/pt-br/tutorials/keras/classification.ipynb?hl=pt-br)\n",
    "\n",
    "[Classificacao_pytorch](https://blog.paperspace.com/writing-cnns-from-scratch-in-pytorch/)"
   ]
  },
  {
   "cell_type": "code",
   "execution_count": null,
   "metadata": {},
   "outputs": [],
   "source": [
    "# model = tf.keras.Sequential([\n",
    "#     tf.keras.layers.Flatten(input_shape=(28, 28, 3)),   # Camada de entrada\n",
    "#     tf.keras.layers.Dense(128, activation='relu'),      # Camada intermediária\n",
    "#     tf.keras.layers.Dense(8,activation='softmax')       # Camada de saída\n",
    "# ])\n",
    "\n",
    "# model.compile(optimizer='SGD',\n",
    "#               loss=tf.keras.losses.SparseCategoricalCrossentropy(from_logits=True),\n",
    "#               metrics=['accuracy'])\n",
    "\n",
    "# model.summary()\n",
    "\n"
   ]
  }
 ],
 "metadata": {
  "language_info": {
   "name": "python"
  }
 },
 "nbformat": 4,
 "nbformat_minor": 2
}
