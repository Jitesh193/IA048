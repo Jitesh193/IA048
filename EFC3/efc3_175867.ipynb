{
 "cells": [
  {
   "cell_type": "markdown",
   "metadata": {},
   "source": [
    "# EFC3 - Redes Neuras MLP e CNN\n",
    "\n",
    "## IA048 - Apendizado de Máquinas\n",
    "Aluno: Jitesh Ashok Manilal Vassaram ; RA: 175867\n"
   ]
  },
  {
   "cell_type": "code",
   "execution_count": 6,
   "metadata": {},
   "outputs": [],
   "source": [
    "import tensorflow as tf\n",
    "import numpy as np\n",
    "import matplotlib.pyplot as plt"
   ]
  },
  {
   "cell_type": "code",
   "execution_count": 9,
   "metadata": {},
   "outputs": [
    {
     "name": "stdout",
     "output_type": "stream",
     "text": [
      "Defaulting to user installation because normal site-packages is not writeable\n",
      "Collecting medmnist\n",
      "  Using cached medmnist-3.0.1-py3-none-any.whl (25 kB)\n",
      "Requirement already satisfied: Pillow in c:\\program files\\python310\\lib\\site-packages (from medmnist) (10.2.0)\n",
      "Collecting fire\n",
      "  Using cached fire-0.6.0-py2.py3-none-any.whl\n",
      "Collecting pandas\n",
      "  Using cached pandas-2.2.2-cp310-cp310-win_amd64.whl (11.6 MB)\n",
      "Requirement already satisfied: tqdm in c:\\users\\usuario\\appdata\\roaming\\python\\python310\\site-packages (from medmnist) (4.66.4)\n",
      "Collecting scikit-image\n",
      "  Using cached scikit_image-0.23.2-cp310-cp310-win_amd64.whl (12.7 MB)\n",
      "Collecting torchvision\n",
      "  Using cached torchvision-0.18.0-cp310-cp310-win_amd64.whl (1.2 MB)\n",
      "Collecting torch\n",
      "  Using cached torch-2.3.0-cp310-cp310-win_amd64.whl (159.8 MB)\n",
      "Collecting scikit-learn\n",
      "  Using cached scikit_learn-1.4.2-cp310-cp310-win_amd64.whl (10.6 MB)\n",
      "Requirement already satisfied: numpy in c:\\program files\\python310\\lib\\site-packages (from medmnist) (1.26.4)\n",
      "Requirement already satisfied: six in c:\\program files\\python310\\lib\\site-packages (from fire->medmnist) (1.16.0)\n",
      "Requirement already satisfied: termcolor in c:\\users\\usuario\\appdata\\roaming\\python\\python310\\site-packages (from fire->medmnist) (2.4.0)\n",
      "Requirement already satisfied: pytz>=2020.1 in c:\\users\\usuario\\appdata\\roaming\\python\\python310\\site-packages (from pandas->medmnist) (2024.1)\n",
      "Requirement already satisfied: python-dateutil>=2.8.2 in c:\\program files\\python310\\lib\\site-packages (from pandas->medmnist) (2.9.0.post0)\n",
      "Requirement already satisfied: tzdata>=2022.7 in c:\\users\\usuario\\appdata\\roaming\\python\\python310\\site-packages (from pandas->medmnist) (2024.1)\n",
      "Collecting lazy-loader>=0.4\n",
      "  Using cached lazy_loader-0.4-py3-none-any.whl (12 kB)\n",
      "Requirement already satisfied: networkx>=2.8 in c:\\users\\usuario\\appdata\\roaming\\python\\python310\\site-packages (from scikit-image->medmnist) (3.3)\n",
      "Requirement already satisfied: scipy>=1.9 in c:\\users\\usuario\\appdata\\roaming\\python\\python310\\site-packages (from scikit-image->medmnist) (1.11.4)\n",
      "Requirement already satisfied: tifffile>=2022.8.12 in c:\\users\\usuario\\appdata\\roaming\\python\\python310\\site-packages (from scikit-image->medmnist) (2024.5.3)\n",
      "Collecting imageio>=2.33\n",
      "  Using cached imageio-2.34.1-py3-none-any.whl (313 kB)\n",
      "Requirement already satisfied: packaging>=21 in c:\\program files\\python310\\lib\\site-packages (from scikit-image->medmnist) (24.0)\n",
      "Collecting joblib>=1.2.0\n",
      "  Using cached joblib-1.4.2-py3-none-any.whl (301 kB)\n",
      "Requirement already satisfied: threadpoolctl>=2.0.0 in c:\\users\\usuario\\appdata\\roaming\\python\\python310\\site-packages (from scikit-learn->medmnist) (3.5.0)\n",
      "Requirement already satisfied: sympy in c:\\users\\usuario\\appdata\\roaming\\python\\python310\\site-packages (from torch->medmnist) (1.12)\n",
      "Requirement already satisfied: mkl<=2021.4.0,>=2021.1.1 in c:\\users\\usuario\\appdata\\roaming\\python\\python310\\site-packages (from torch->medmnist) (2021.4.0)\n",
      "Collecting jinja2\n",
      "  Using cached jinja2-3.1.4-py3-none-any.whl (133 kB)\n",
      "Collecting filelock\n",
      "  Using cached filelock-3.14.0-py3-none-any.whl (12 kB)\n",
      "Requirement already satisfied: typing-extensions>=4.8.0 in c:\\users\\usuario\\appdata\\roaming\\python\\python310\\site-packages (from torch->medmnist) (4.11.0)\n",
      "Collecting fsspec\n",
      "  Using cached fsspec-2024.3.1-py3-none-any.whl (171 kB)\n",
      "Requirement already satisfied: colorama in c:\\users\\usuario\\appdata\\roaming\\python\\python310\\site-packages (from tqdm->medmnist) (0.4.6)\n",
      "Requirement already satisfied: tbb==2021.* in c:\\users\\usuario\\appdata\\roaming\\python\\python310\\site-packages (from mkl<=2021.4.0,>=2021.1.1->torch->medmnist) (2021.12.0)\n",
      "Requirement already satisfied: intel-openmp==2021.* in c:\\users\\usuario\\appdata\\roaming\\python\\python310\\site-packages (from mkl<=2021.4.0,>=2021.1.1->torch->medmnist) (2021.4.0)\n",
      "Requirement already satisfied: MarkupSafe>=2.0 in c:\\users\\usuario\\appdata\\roaming\\python\\python310\\site-packages (from jinja2->torch->medmnist) (2.1.5)\n",
      "Requirement already satisfied: mpmath>=0.19 in c:\\users\\usuario\\appdata\\roaming\\python\\python310\\site-packages (from sympy->torch->medmnist) (1.3.0)\n",
      "Installing collected packages: lazy-loader, joblib, jinja2, imageio, fsspec, fire, filelock, torch, scikit-learn, scikit-image, pandas, torchvision, medmnist\n",
      "Note: you may need to restart the kernel to use updated packages.\n"
     ]
    },
    {
     "name": "stderr",
     "output_type": "stream",
     "text": [
      "ERROR: Could not install packages due to an OSError: [WinError 32] O arquivo já está sendo usado por outro processo: 'C:\\\\Users\\\\Usuario\\\\AppData\\\\Roaming\\\\Python\\\\Python310\\\\site-packages\\\\torch\\\\ao\\\\pruning\\\\_experimental\\\\activation_sparsifier\\\\activation_sparsifier.py'\n",
      "Check the permissions.\n",
      "\n",
      "\n",
      "[notice] A new release of pip is available: 23.0.1 -> 24.0\n",
      "[notice] To update, run: python.exe -m pip install --upgrade pip\n"
     ]
    }
   ],
   "source": [
    "%pip install medmnist"
   ]
  },
  {
   "cell_type": "code",
   "execution_count": null,
   "metadata": {},
   "outputs": [],
   "source": []
  },
  {
   "cell_type": "code",
   "execution_count": 4,
   "metadata": {},
   "outputs": [
    {
     "ename": "AttributeError",
     "evalue": "module 'keras.api.datasets' has no attribute 'bloodmnist'",
     "output_type": "error",
     "traceback": [
      "\u001b[1;31m---------------------------------------------------------------------------\u001b[0m",
      "\u001b[1;31mAttributeError\u001b[0m                            Traceback (most recent call last)",
      "Cell \u001b[1;32mIn[4], line 1\u001b[0m\n\u001b[1;32m----> 1\u001b[0m blood_mnist \u001b[38;5;241m=\u001b[39m \u001b[43mtf\u001b[49m\u001b[38;5;241;43m.\u001b[39;49m\u001b[43mkeras\u001b[49m\u001b[38;5;241;43m.\u001b[39;49m\u001b[43mdatasets\u001b[49m\u001b[38;5;241;43m.\u001b[39;49m\u001b[43mbloodmnist\u001b[49m\n",
      "\u001b[1;31mAttributeError\u001b[0m: module 'keras.api.datasets' has no attribute 'bloodmnist'"
     ]
    }
   ],
   "source": [
    "blood_mnist = tf.keras.datasets.bloodmnist"
   ]
  }
 ],
 "metadata": {
  "kernelspec": {
   "display_name": "Python 3",
   "language": "python",
   "name": "python3"
  },
  "language_info": {
   "codemirror_mode": {
    "name": "ipython",
    "version": 3
   },
   "file_extension": ".py",
   "mimetype": "text/x-python",
   "name": "python",
   "nbconvert_exporter": "python",
   "pygments_lexer": "ipython3",
   "version": "3.10.7"
  }
 },
 "nbformat": 4,
 "nbformat_minor": 2
}
